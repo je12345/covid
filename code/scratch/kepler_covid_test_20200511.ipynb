{
 "cells": [
  {
   "cell_type": "code",
   "execution_count": 1,
   "metadata": {},
   "outputs": [],
   "source": [
    "from keplergl import KeplerGl \n",
    "import pandas as pd"
   ]
  },
  {
   "cell_type": "code",
   "execution_count": 2,
   "metadata": {},
   "outputs": [
    {
     "name": "stdout",
     "output_type": "stream",
     "text": [
      "User Guide: https://github.com/keplergl/kepler.gl/blob/master/docs/keplergl-jupyter/user-guide.md\n"
     ]
    },
    {
     "data": {
      "application/vnd.jupyter.widget-view+json": {
       "model_id": "52b2781b45474ad697389510d045ada8",
       "version_major": 2,
       "version_minor": 0
      },
      "text/plain": [
       "KeplerGl(height=700)"
      ]
     },
     "metadata": {},
     "output_type": "display_data"
    }
   ],
   "source": [
    "map_1 = KeplerGl(height=700)\n",
    "map_1"
   ]
  },
  {
   "cell_type": "code",
   "execution_count": 3,
   "metadata": {},
   "outputs": [
    {
     "data": {
      "text/plain": [
       "neighborhood                     object\n",
       "current_cases                   float64\n",
       "cases_per_100k                  float64\n",
       "ds                               object\n",
       "ds_3_days_ago                    object\n",
       "new_cases_last_3_days           float64\n",
       "lat                             float64\n",
       "long                            float64\n",
       "region                           object\n",
       "dt                       datetime64[ns]\n",
       "dtype: object"
      ]
     },
     "execution_count": 3,
     "metadata": {},
     "output_type": "execute_result"
    }
   ],
   "source": [
    "column_names = ['neighborhood','current_cases','cases_per_100k','ds','ds_3_days_ago','new_cases_last_3_days','lat','long','region']\n",
    "df = pd.read_csv(\"/Users/j6/Documents/repo/covid/output_files/covid_final.csv\"\n",
    "           , skiprows = 1\n",
    "           , names = column_names)\n",
    "# df_final_latest.to_csv('/Users/j5/Documents/repo/covid/covid_final_latest.csv')\n",
    "# print(df1)\n",
    "df.dtypes\n",
    "# df['ds'].to_datetime()\n",
    "df['dt'] = pd.to_datetime(df['ds'])\n",
    "df.dtypes"
   ]
  },
  {
   "cell_type": "code",
   "execution_count": 4,
   "metadata": {},
   "outputs": [],
   "source": [
    "map_1.add_data(data=df, name='data_1')"
   ]
  },
  {
   "cell_type": "code",
   "execution_count": null,
   "metadata": {},
   "outputs": [],
   "source": []
  }
 ],
 "metadata": {
  "kernelspec": {
   "display_name": "Python 3",
   "language": "python",
   "name": "python3"
  },
  "language_info": {
   "codemirror_mode": {
    "name": "ipython",
    "version": 3
   },
   "file_extension": ".py",
   "mimetype": "text/x-python",
   "name": "python",
   "nbconvert_exporter": "python",
   "pygments_lexer": "ipython3",
   "version": "3.7.6"
  }
 },
 "nbformat": 4,
 "nbformat_minor": 2
}
