{
 "cells": [
  {
   "cell_type": "code",
   "execution_count": 13,
   "metadata": {},
   "outputs": [],
   "source": [
    "from keplergl import KeplerGl \n",
    "import pandas as pd"
   ]
  },
  {
   "cell_type": "code",
   "execution_count": 27,
   "metadata": {},
   "outputs": [
    {
     "name": "stdout",
     "output_type": "stream",
     "text": [
      "User Guide: https://github.com/keplergl/kepler.gl/blob/master/docs/keplergl-jupyter/user-guide.md\n"
     ]
    },
    {
     "data": {
      "application/vnd.jupyter.widget-view+json": {
       "model_id": "6060c0709fbb49dda5ef9fce58220c88",
       "version_major": 2,
       "version_minor": 0
      },
      "text/plain": [
       "KeplerGl(height=700)"
      ]
     },
     "metadata": {},
     "output_type": "display_data"
    }
   ],
   "source": [
    "map_1 = KeplerGl(height=700)\n",
    "map_1"
   ]
  },
  {
   "cell_type": "code",
   "execution_count": 28,
   "metadata": {},
   "outputs": [
    {
     "data": {
      "text/plain": [
       "neighborhood                     object\n",
       "current_cases                   float64\n",
       "cases_per_100k                  float64\n",
       "ds                               object\n",
       "ds_3_days_ago                    object\n",
       "new_cases_last_3_days           float64\n",
       "lat                             float64\n",
       "long                            float64\n",
       "region                           object\n",
       "dt                       datetime64[ns]\n",
       "dtype: object"
      ]
     },
     "execution_count": 28,
     "metadata": {},
     "output_type": "execute_result"
    }
   ],
   "source": [
    "column_names = ['neighborhood','current_cases','cases_per_100k','ds','ds_3_days_ago','new_cases_last_3_days','lat','long','region']\n",
    "df = pd.read_csv(\"/Users/j6/Documents/repo/covid/output_files/covid_final.csv\"\n",
    "           , skiprows = 1\n",
    "           , names = column_names)\n",
    "# df_final_latest.to_csv('/Users/j5/Documents/repo/covid/covid_final_latest.csv')\n",
    "# print(df1)\n",
    "df.dtypes\n",
    "# df['ds'].to_datetime()\n",
    "df['dt'] = pd.to_datetime(df['ds'])\n",
    "df.dtypes"
   ]
  },
  {
   "cell_type": "code",
   "execution_count": 29,
   "metadata": {},
   "outputs": [],
   "source": [
    "map_1.add_data(data=df, name='data_1')"
   ]
  },
  {
   "cell_type": "code",
   "execution_count": 30,
   "metadata": {},
   "outputs": [
    {
     "data": {
      "text/plain": [
       "{'version': 'v1',\n",
       " 'config': {'visState': {'filters': [{'dataId': 'data_1',\n",
       "     'id': 'bqu0jhg5e',\n",
       "     'name': 'dt',\n",
       "     'type': 'timeRange',\n",
       "     'value': [1585728288000, 1586298053000],\n",
       "     'enlarged': True,\n",
       "     'plotType': 'histogram',\n",
       "     'yAxis': None}],\n",
       "   'layers': [{'id': 'bb5r1vg',\n",
       "     'type': 'hexagon',\n",
       "     'config': {'dataId': 'data_1',\n",
       "      'label': 'new layer',\n",
       "      'color': [231, 159, 213],\n",
       "      'columns': {'lat': 'lat', 'lng': 'long'},\n",
       "      'isVisible': True,\n",
       "      'visConfig': {'opacity': 0.8,\n",
       "       'resolution': 8,\n",
       "       'coverage': 1,\n",
       "       'percentile': [0, 100],\n",
       "       'elevationPercentile': [0, 100],\n",
       "       'colorRange': {'name': 'Uber Viz Diverging 1.5',\n",
       "        'type': 'diverging',\n",
       "        'category': 'Uber',\n",
       "        'colors': ['#00939C',\n",
       "         '#5DBABF',\n",
       "         '#BAE1E2',\n",
       "         '#F8C0AA',\n",
       "         '#DD7755',\n",
       "         '#C22E00']},\n",
       "       'worldUnitSize': 1.4,\n",
       "       'colorAggregation': 'sum',\n",
       "       'enable3d': True,\n",
       "       'elevationScale': 25.6,\n",
       "       'sizeRange': [0, 589.57],\n",
       "       'sizeAggregation': 'average'},\n",
       "      'textLabel': [{'field': None,\n",
       "        'color': [255, 255, 255],\n",
       "        'size': 18,\n",
       "        'offset': [0, 0],\n",
       "        'anchor': 'start',\n",
       "        'alignment': 'center'}]},\n",
       "     'visualChannels': {'colorField': {'name': 'new_cases_last_3_days',\n",
       "       'type': 'integer'},\n",
       "      'colorScale': 'quantile',\n",
       "      'sizeField': {'name': 'current_cases', 'type': 'integer'},\n",
       "      'sizeScale': 'linear'}}],\n",
       "   'interactionConfig': {'tooltip': {'fieldsToShow': {'data_1': ['neighborhood',\n",
       "       'current_cases',\n",
       "       'cases_per_100k',\n",
       "       'ds',\n",
       "       'ds_3_days_ago']},\n",
       "     'enabled': True},\n",
       "    'brush': {'size': 0.5, 'enabled': False}},\n",
       "   'layerBlending': 'normal',\n",
       "   'splitMaps': [],\n",
       "   'animationConfig': {'currentTime': None, 'speed': 1}},\n",
       "  'mapState': {'bearing': 15.632231404958677,\n",
       "   'dragRotate': True,\n",
       "   'latitude': 33.577779190697605,\n",
       "   'longitude': -118.72077860134797,\n",
       "   'pitch': 48.12429701836772,\n",
       "   'zoom': 7.888886507264207,\n",
       "   'isSplit': False},\n",
       "  'mapStyle': {'styleType': 'dark',\n",
       "   'topLayerGroups': {},\n",
       "   'visibleLayerGroups': {'label': True,\n",
       "    'road': True,\n",
       "    'border': False,\n",
       "    'building': True,\n",
       "    'water': True,\n",
       "    'land': True,\n",
       "    '3d building': False},\n",
       "   'threeDBuildingColor': [9.665468314072013,\n",
       "    17.18305478057247,\n",
       "    31.1442867897876],\n",
       "   'mapStyles': {}}}}"
      ]
     },
     "execution_count": 30,
     "metadata": {},
     "output_type": "execute_result"
    }
   ],
   "source": [
    "map_1.config"
   ]
  },
  {
   "cell_type": "code",
   "execution_count": null,
   "metadata": {},
   "outputs": [],
   "source": [
    "# Load map with data and config\n",
    "from keplergl import KeplerGl\n",
    "map_1 = KeplerGl(height=500, data={‘data_1’: df}, config=config)\n",
    "map_1"
   ]
  }
 ],
 "metadata": {
  "kernelspec": {
   "display_name": "Python 3",
   "language": "python",
   "name": "python3"
  },
  "language_info": {
   "codemirror_mode": {
    "name": "ipython",
    "version": 3
   },
   "file_extension": ".py",
   "mimetype": "text/x-python",
   "name": "python",
   "nbconvert_exporter": "python",
   "pygments_lexer": "ipython3",
   "version": "3.7.6"
  }
 },
 "nbformat": 4,
 "nbformat_minor": 2
}
